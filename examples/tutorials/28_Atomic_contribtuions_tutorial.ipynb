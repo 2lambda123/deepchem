{
 "cells": [
  {
   "cell_type": "markdown",
   "metadata": {},
   "source": [
    "# Calculating Atomic Contributions for Molecules Based on Graph Convolutional  QSAR Model. A tutorial. \n",
    "<img src=\"atomic_contributions_tutorial_data/index.png\">\n",
    "\n",
    "## Why do the DeepChem Tutorial?\n",
    "###  You will learn   to find atoms of molecules important for the activity, and visualize them. We will learn on two tasks: classification and regression.\n",
    "###  Contributions are also known as \"attributions\" , \"coloration\" etc. in literature. Atomic contributions are  defined as the difference in activity of the whole molecule and fragment remaining after atom removal. This is one of model interpretation methods [1], analogous to Similarity maps [2] in QSAR domain, or occlusion methods in other fields (image classification etc).\n",
    "\n",
    "\n",
    "\n",
    "#### Mariia Matveieva, Pavel Polishchuk. Institute of Molecular and Translational Medicine, Palacky University, Olomouc, Czech Republic.\n"
   ]
  },
  {
   "cell_type": "code",
   "execution_count": 1,
   "metadata": {
    "scrolled": true
   },
   "outputs": [],
   "source": [
    "import pandas as pd\n",
    "import deepchem as dc\n",
    "import numpy as np\n",
    "from rdkit import Chem\n",
    "from rdkit.Chem import AllChem\n",
    "from rdkit.Chem import Draw, PyMol, rdFMCS\n",
    "from rdkit.Chem.Draw import IPythonConsole\n",
    "from rdkit import rdBase\n",
    "from deepchem import metrics\n",
    "from IPython.display import Image, display\n",
    "from rdkit.Chem.Draw import SimilarityMaps\n",
    "import tensorflow as tf"
   ]
  },
  {
   "cell_type": "markdown",
   "metadata": {},
   "source": [
    "## 1. First, let's build a classification QSAR model for Blood-brain barrier permeability\n",
    "### BBB permeability is the ability of compounds to  enter  central nervous system. Here we use dataset of relatively small  compounds which are transported by diffusion without any  carriers.  The property is defined as log10 (concentration in brain / concentration in blood). Compounds with positive  value (and 0) are labeled active, others inactive.  After modelling we will identify atoms favorable and unfavorable for diffusion."
   ]
  },
  {
   "cell_type": "code",
   "execution_count": 2,
   "metadata": {},
   "outputs": [],
   "source": [
    "# 1. Create dataset"
   ]
  },
  {
   "cell_type": "code",
   "execution_count": 3,
   "metadata": {},
   "outputs": [],
   "source": [
    "DATASET_FILE ='atomic_contributions_tutorial_data/logBB.sdf'"
   ]
  },
  {
   "cell_type": "code",
   "execution_count": 4,
   "metadata": {
    "scrolled": true
   },
   "outputs": [],
   "source": [
    "# create RDKit mol objects, we will need them later\n",
    "mols = [m for m in Chem.SDMolSupplier(DATASET_FILE) if m is not None ]"
   ]
  },
  {
   "cell_type": "code",
   "execution_count": 5,
   "metadata": {},
   "outputs": [
    {
     "data": {
      "text/plain": [
       "298"
      ]
     },
     "execution_count": 5,
     "metadata": {},
     "output_type": "execute_result"
    }
   ],
   "source": [
    "len(mols)"
   ]
  },
  {
   "cell_type": "code",
   "execution_count": 6,
   "metadata": {
    "scrolled": false
   },
   "outputs": [],
   "source": [
    "loader = dc.data.SDFLoader(tasks=[\"logBB_class\"], \n",
    "\n",
    "                           featurizer=dc.feat.ConvMolFeaturizer(),\n",
    "                           sanitize = True)\n",
    "\n",
    "dataset = loader.create_dataset(DATASET_FILE, shard_size=2000)\n",
    "\n"
   ]
  },
  {
   "cell_type": "code",
   "execution_count": 7,
   "metadata": {
    "scrolled": false
   },
   "outputs": [
    {
     "data": {
      "text/plain": [
       "(298,)"
      ]
     },
     "execution_count": 7,
     "metadata": {},
     "output_type": "execute_result"
    }
   ],
   "source": [
    "dataset.ids.shape"
   ]
  },
  {
   "cell_type": "code",
   "execution_count": 8,
   "metadata": {},
   "outputs": [],
   "source": [
    "# 2. Build a model"
   ]
  },
  {
   "cell_type": "code",
   "execution_count": 9,
   "metadata": {},
   "outputs": [],
   "source": [
    "np.random.seed(2020)\n",
    "tf.random.set_seed(2020)"
   ]
  },
  {
   "cell_type": "code",
   "execution_count": 10,
   "metadata": {
    "scrolled": true
   },
   "outputs": [
    {
     "name": "stderr",
     "output_type": "stream",
     "text": [
      "/home/maria/anaconda3/envs/deepchem_testing/lib/python3.7/site-packages/tensorflow/python/framework/indexed_slices.py:432: UserWarning: Converting sparse IndexedSlices to a dense Tensor of unknown shape. This may consume a large amount of memory.\n",
      "  \"Converting sparse IndexedSlices to a dense Tensor of unknown shape. \"\n"
     ]
    },
    {
     "data": {
      "text/plain": [
       "0.5348200480143229"
      ]
     },
     "execution_count": 10,
     "metadata": {},
     "output_type": "execute_result"
    }
   ],
   "source": [
    "m = dc.models.GraphConvModel(1, mode=\"classification\", nb_epoch=10,batch_normalize=False, restore=False, batch_size = 100)\n",
    "m.fit(dataset)\n"
   ]
  },
  {
   "cell_type": "code",
   "execution_count": 11,
   "metadata": {},
   "outputs": [],
   "source": [
    "# 3. Test set performance"
   ]
  },
  {
   "cell_type": "code",
   "execution_count": 12,
   "metadata": {
    "scrolled": true
   },
   "outputs": [],
   "source": [
    "TEST_DATASET_FILE = 'atomic_contributions_tutorial_data/logBB_test_.sdf'\n",
    "loader = dc.data.SDFLoader(tasks=[\"p_np\"], sanitize= True,\n",
    "                           featurizer=dc.feat.ConvMolFeaturizer())\n",
    "\n",
    "test_dataset = loader.create_dataset(TEST_DATASET_FILE, shard_size=2000)\n",
    "\n"
   ]
  },
  {
   "cell_type": "code",
   "execution_count": 13,
   "metadata": {},
   "outputs": [],
   "source": [
    "pred =  m.predict(test_dataset)"
   ]
  },
  {
   "cell_type": "code",
   "execution_count": 14,
   "metadata": {},
   "outputs": [],
   "source": [
    "pred = np.argmax(np.squeeze(pred),axis= 1)"
   ]
  },
  {
   "cell_type": "code",
   "execution_count": 15,
   "metadata": {},
   "outputs": [],
   "source": [
    "ba = metrics.balanced_accuracy_score(y_true=test_dataset.y, y_pred=pred)"
   ]
  },
  {
   "cell_type": "code",
   "execution_count": 16,
   "metadata": {},
   "outputs": [
    {
     "data": {
      "text/plain": [
       "0.7444444444444445"
      ]
     },
     "execution_count": 16,
     "metadata": {},
     "output_type": "execute_result"
    }
   ],
   "source": [
    "# balanced accuracy is high enough to procced to model interpretation - i.e. atomic contributions\n",
    "ba "
   ]
  },
  {
   "cell_type": "markdown",
   "metadata": {},
   "source": [
    "## 2. Now, let's prepare dataset of fragments based on training set (any other unseen data set of interest can be used). These fragments will be used to evaluate contributions of atoms.\n",
    "### For each molecule we will generate a list of ConvMol objects: featurizations for single atom-depleted versions of the  molecule (iterate over all heavy atoms in the molecule)\n",
    "### All we need is to load again the training set,  but when featurizing it,  set\n",
    "##### per_atom_fragmentation=True"
   ]
  },
  {
   "cell_type": "code",
   "execution_count": 17,
   "metadata": {
    "scrolled": false
   },
   "outputs": [
    {
     "name": "stderr",
     "output_type": "stream",
     "text": [
      "/home/maria/anaconda3/envs/deepchem_testing/lib/python3.7/site-packages/numpy/core/_asarray.py:83: VisibleDeprecationWarning: Creating an ndarray from ragged nested sequences (which is a list-or-tuple of lists-or-tuples-or ndarrays with different lengths or shapes) is deprecated. If you meant to do this, you must specify 'dtype=object' when creating the ndarray\n",
      "  return array(a, dtype, copy=False, order=order)\n",
      "/mnt/d/deepchem/deepchem/data/data_loader.py:919: VisibleDeprecationWarning: Creating an ndarray from ragged nested sequences (which is a list-or-tuple of lists-or-tuples-or ndarrays with different lengths or shapes) is deprecated. If you meant to do this, you must specify 'dtype=object' when creating the ndarray\n",
      "  return np.array(features), valid_inds\n"
     ]
    }
   ],
   "source": [
    "loader = dc.data.SDFLoader(tasks=[],# dont need task (moreover, passing the task can lead to inconsitencies in data shapes)\n",
    "                        featurizer=dc.feat.ConvMolFeaturizer(per_atom_fragmentation=True),\n",
    "                        sanitize=True) \n",
    "\n",
    "frag_dataset = loader.create_dataset(DATASET_FILE, shard_size=5000)"
   ]
  },
  {
   "cell_type": "code",
   "execution_count": 18,
   "metadata": {},
   "outputs": [
    {
     "data": {
      "text/plain": [
       "(298,)"
      ]
     },
     "execution_count": 18,
     "metadata": {},
     "output_type": "execute_result"
    }
   ],
   "source": [
    "# dataset has the same number of  rows  than original training set, \n",
    "# but each row is a fragment list of corresponding molecule. \n",
    "# Molecules go in the same order as   original input file. \n",
    "# IMPORTANT: fragments order depends on input format: if sdf, then fragment order is the same, as atom order in corresponding mol blocks\n",
    "# if SMILES (i.e. csv with molecules represented as SMILES), then order is given by RDKit CanonicalRankAtoms\n",
    "\n",
    "frag_dataset.X.shape\n"
   ]
  },
  {
   "cell_type": "code",
   "execution_count": 19,
   "metadata": {},
   "outputs": [
    {
     "data": {
      "text/plain": [
       "(298,)"
      ]
     },
     "execution_count": 19,
     "metadata": {},
     "output_type": "execute_result"
    }
   ],
   "source": [
    "frag_dataset.ids.shape# ids indicate name of the molecule which  fragments ocome from"
   ]
  },
  {
   "cell_type": "code",
   "execution_count": 20,
   "metadata": {},
   "outputs": [],
   "source": [
    "# transform dataset to flatten fragments lists to make it suitable for prediction "
   ]
  },
  {
   "cell_type": "code",
   "execution_count": 21,
   "metadata": {},
   "outputs": [],
   "source": [
    "tr = dc.trans.FlatteningTransformer(frag_dataset)"
   ]
  },
  {
   "cell_type": "code",
   "execution_count": 22,
   "metadata": {},
   "outputs": [],
   "source": [
    "frag_dataset = tr.transform(frag_dataset)"
   ]
  },
  {
   "cell_type": "code",
   "execution_count": 23,
   "metadata": {},
   "outputs": [
    {
     "data": {
      "text/plain": [
       "(5111,)"
      ]
     },
     "execution_count": 23,
     "metadata": {},
     "output_type": "execute_result"
    }
   ],
   "source": [
    "# dataset has now number of  rows equal total number of fragments in all molecules (i.e. flat)\n",
    "frag_dataset.X.shape\n"
   ]
  },
  {
   "cell_type": "code",
   "execution_count": 24,
   "metadata": {},
   "outputs": [
    {
     "data": {
      "text/plain": [
       "(5111,)"
      ]
     },
     "execution_count": 24,
     "metadata": {},
     "output_type": "execute_result"
    }
   ],
   "source": [
    "# the ids are expanded so that each fragment has an id of parent molecule\n",
    "frag_dataset.ids.shape"
   ]
  },
  {
   "cell_type": "markdown",
   "metadata": {},
   "source": [
    "## 3. Now we will predict the activity for  molecules and for their fragments. Then, for each fragment,  we'll find the activity difference - that is atomic contribution of removed atom, corresponding to that fragment.\n",
    "### Note: here, in classification context,  we use probabilistic output of the model as the activity. So, contribution is probability difference, i.e. \"how much a given atom increases/decreases the probability of the molecule to be active\""
   ]
  },
  {
   "cell_type": "code",
   "execution_count": null,
   "metadata": {},
   "outputs": [],
   "source": []
  },
  {
   "cell_type": "code",
   "execution_count": 25,
   "metadata": {
    "scrolled": true
   },
   "outputs": [],
   "source": [
    "# whole  molecules\n",
    "pred = np.squeeze(m.predict(dataset))[:, 1] # probabilitiy of class 1\n",
    "pred = pd.DataFrame(pred, index=dataset.ids, columns=[\"Molecule\"])  # turn to dataframe for convinience"
   ]
  },
  {
   "cell_type": "code",
   "execution_count": 26,
   "metadata": {
    "scrolled": false
   },
   "outputs": [],
   "source": [
    "# fragments\n",
    "pred_frags =np.squeeze(m.predict(frag_dataset))[:, 1]\n",
    "pred_frags = pd.DataFrame(pred_frags, index=frag_dataset.ids, columns=[\"Fragment\"])"
   ]
  },
  {
   "cell_type": "markdown",
   "metadata": {},
   "source": [
    "# 4.  Let's finally find atomic contributions:"
   ]
  },
  {
   "cell_type": "code",
   "execution_count": 27,
   "metadata": {},
   "outputs": [],
   "source": [
    "# merge 2 dataframes by molecule names\n",
    "df = pd.merge(pred_frags, pred, right_index=True, left_index=True)\n",
    "# find contribs\n",
    "df['Contrib'] = df[\"Molecule\"] - df[\"Fragment\"]"
   ]
  },
  {
   "cell_type": "code",
   "execution_count": 28,
   "metadata": {},
   "outputs": [
    {
     "data": {
      "text/html": [
       "<div>\n",
       "<style scoped>\n",
       "    .dataframe tbody tr th:only-of-type {\n",
       "        vertical-align: middle;\n",
       "    }\n",
       "\n",
       "    .dataframe tbody tr th {\n",
       "        vertical-align: top;\n",
       "    }\n",
       "\n",
       "    .dataframe thead th {\n",
       "        text-align: right;\n",
       "    }\n",
       "</style>\n",
       "<table border=\"1\" class=\"dataframe\">\n",
       "  <thead>\n",
       "    <tr style=\"text-align: right;\">\n",
       "      <th></th>\n",
       "      <th>Fragment</th>\n",
       "      <th>Molecule</th>\n",
       "      <th>Contrib</th>\n",
       "    </tr>\n",
       "  </thead>\n",
       "  <tbody>\n",
       "    <tr>\n",
       "      <th>C#CC1(O)CCC2C3C(C)CC4=C(CCC(=O)C4)C3CCC21C</th>\n",
       "      <td>0.756531</td>\n",
       "      <td>0.811546</td>\n",
       "      <td>0.055015</td>\n",
       "    </tr>\n",
       "    <tr>\n",
       "      <th>C#CC1(O)CCC2C3C(C)CC4=C(CCC(=O)C4)C3CCC21C</th>\n",
       "      <td>0.752750</td>\n",
       "      <td>0.811546</td>\n",
       "      <td>0.058796</td>\n",
       "    </tr>\n",
       "    <tr>\n",
       "      <th>C#CC1(O)CCC2C3C(C)CC4=C(CCC(=O)C4)C3CCC21C</th>\n",
       "      <td>0.747007</td>\n",
       "      <td>0.811546</td>\n",
       "      <td>0.064539</td>\n",
       "    </tr>\n",
       "    <tr>\n",
       "      <th>C#CC1(O)CCC2C3C(C)CC4=C(CCC(=O)C4)C3CCC21C</th>\n",
       "      <td>0.815875</td>\n",
       "      <td>0.811546</td>\n",
       "      <td>-0.004329</td>\n",
       "    </tr>\n",
       "    <tr>\n",
       "      <th>C#CC1(O)CCC2C3C(C)CC4=C(CCC(=O)C4)C3CCC21C</th>\n",
       "      <td>0.741801</td>\n",
       "      <td>0.811546</td>\n",
       "      <td>0.069745</td>\n",
       "    </tr>\n",
       "    <tr>\n",
       "      <th>...</th>\n",
       "      <td>...</td>\n",
       "      <td>...</td>\n",
       "      <td>...</td>\n",
       "    </tr>\n",
       "    <tr>\n",
       "      <th>c1cncc(C2CCCN2)c1</th>\n",
       "      <td>0.780478</td>\n",
       "      <td>0.813036</td>\n",
       "      <td>0.032558</td>\n",
       "    </tr>\n",
       "    <tr>\n",
       "      <th>c1cncc(C2CCCN2)c1</th>\n",
       "      <td>0.722650</td>\n",
       "      <td>0.813036</td>\n",
       "      <td>0.090386</td>\n",
       "    </tr>\n",
       "    <tr>\n",
       "      <th>c1cncc(C2CCCN2)c1</th>\n",
       "      <td>0.721609</td>\n",
       "      <td>0.813036</td>\n",
       "      <td>0.091427</td>\n",
       "    </tr>\n",
       "    <tr>\n",
       "      <th>c1cncc(C2CCCN2)c1</th>\n",
       "      <td>0.683302</td>\n",
       "      <td>0.813036</td>\n",
       "      <td>0.129734</td>\n",
       "    </tr>\n",
       "    <tr>\n",
       "      <th>c1cncc(C2CCCN2)c1</th>\n",
       "      <td>0.674457</td>\n",
       "      <td>0.813036</td>\n",
       "      <td>0.138578</td>\n",
       "    </tr>\n",
       "  </tbody>\n",
       "</table>\n",
       "<p>5111 rows × 3 columns</p>\n",
       "</div>"
      ],
      "text/plain": [
       "                                            Fragment  Molecule   Contrib\n",
       "C#CC1(O)CCC2C3C(C)CC4=C(CCC(=O)C4)C3CCC21C  0.756531  0.811546  0.055015\n",
       "C#CC1(O)CCC2C3C(C)CC4=C(CCC(=O)C4)C3CCC21C  0.752750  0.811546  0.058796\n",
       "C#CC1(O)CCC2C3C(C)CC4=C(CCC(=O)C4)C3CCC21C  0.747007  0.811546  0.064539\n",
       "C#CC1(O)CCC2C3C(C)CC4=C(CCC(=O)C4)C3CCC21C  0.815875  0.811546 -0.004329\n",
       "C#CC1(O)CCC2C3C(C)CC4=C(CCC(=O)C4)C3CCC21C  0.741801  0.811546  0.069745\n",
       "...                                              ...       ...       ...\n",
       "c1cncc(C2CCCN2)c1                           0.780478  0.813036  0.032558\n",
       "c1cncc(C2CCCN2)c1                           0.722650  0.813036  0.090386\n",
       "c1cncc(C2CCCN2)c1                           0.721609  0.813036  0.091427\n",
       "c1cncc(C2CCCN2)c1                           0.683302  0.813036  0.129734\n",
       "c1cncc(C2CCCN2)c1                           0.674457  0.813036  0.138578\n",
       "\n",
       "[5111 rows x 3 columns]"
      ]
     },
     "execution_count": 28,
     "metadata": {},
     "output_type": "execute_result"
    }
   ],
   "source": [
    "df"
   ]
  },
  {
   "cell_type": "markdown",
   "metadata": {},
   "source": [
    "#  5. Visualize contributions with RDKit Similarity Maps"
   ]
  },
  {
   "cell_type": "code",
   "execution_count": 29,
   "metadata": {},
   "outputs": [],
   "source": [
    "def vis_contribs(mols, df, smi_or_sdf = \"sdf\"): \n",
    "    # input format of file, which was used to create dataset  determines the order of atoms, \n",
    "    # so we take it into account for correct mapping!\n",
    "    maps = []\n",
    "    for mol  in mols:\n",
    "        wt = {}\n",
    "        if smi_or_sdf == \"smi\":\n",
    "            for n,atom in enumerate(Chem.rdmolfiles.CanonicalRankAtoms(mol)):\n",
    "                wt[atom] = df.loc[mol.GetProp(\"_Name\"),\"Contrib\"][n]\n",
    "        if smi_or_sdf == \"sdf\":        \n",
    "            for n,atom in enumerate(range(mol.GetNumHeavyAtoms())):\n",
    "                wt[atom] = df.loc[Chem.MolToSmiles(mol),\"Contrib\"][n]\n",
    "        maps.append(SimilarityMaps.GetSimilarityMapFromWeights(mol,wt))\n",
    "    return maps    "
   ]
  },
  {
   "cell_type": "markdown",
   "metadata": {},
   "source": [
    "### Let's look at some pictures:"
   ]
  },
  {
   "cell_type": "code",
   "execution_count": null,
   "metadata": {
    "scrolled": true
   },
   "outputs": [],
   "source": [
    "np.random.seed(2000)\n",
    "maps = vis_contribs(np.random.choice(np.array(mols),20), df)"
   ]
  },
  {
   "cell_type": "markdown",
   "metadata": {},
   "source": [
    "### We can see, that aromatics or aliphatics  have positive impact on membrane permeability, while polar or charged heteroatoms  have negative influence. This is generally consistent with literature data."
   ]
  },
  {
   "cell_type": "markdown",
   "metadata": {},
   "source": [
    "## 6. Let's take  a regression task, aquatic toxicity (towards water organism T. pyriformis).\n",
    "### Toxicity is defined as log10 (IGC50) (concentration that inhibits colony growth by 50 %). Toxicophores for T. pyriformis will be identified by atomic contributions.\n",
    "### All the above steps are the same: load data, featurize, build a model, create dataset of fragments, find contributions and visualize them\n",
    "### Note: this time as it is regression, contributions will be in activity units, not probability\n"
   ]
  },
  {
   "cell_type": "code",
   "execution_count": 31,
   "metadata": {},
   "outputs": [],
   "source": [
    "DATASET_FILE ='atomic_contributions_tutorial_data/Tetrahymena_pyriformis_Work_set_OCHEM.sdf'"
   ]
  },
  {
   "cell_type": "code",
   "execution_count": 32,
   "metadata": {},
   "outputs": [],
   "source": [
    "# create RDKit mol objects, we will need them later\n",
    "mols = [m for m in Chem.SDMolSupplier(DATASET_FILE) if m is not None ]"
   ]
  },
  {
   "cell_type": "code",
   "execution_count": 33,
   "metadata": {},
   "outputs": [
    {
     "data": {
      "text/plain": [
       "1424"
      ]
     },
     "execution_count": 33,
     "metadata": {},
     "output_type": "execute_result"
    }
   ],
   "source": [
    "len(mols)"
   ]
  },
  {
   "cell_type": "code",
   "execution_count": 34,
   "metadata": {
    "scrolled": false
   },
   "outputs": [],
   "source": [
    "loader = dc.data.SDFLoader(tasks=[\"IGC50\"], \n",
    "                           featurizer=dc.feat.ConvMolFeaturizer(), sanitize = True)\n",
    "\n",
    "dataset = loader.create_dataset(DATASET_FILE, shard_size=5000)"
   ]
  },
  {
   "cell_type": "code",
   "execution_count": 35,
   "metadata": {
    "scrolled": true
   },
   "outputs": [
    {
     "data": {
      "text/plain": [
       "(array([ 16,  79, 156, 233, 320, 275, 185, 104,  45,  11]),\n",
       " array([0.49, 1.077, 1.664, 2.251, 2.838, 3.425, 4.012, 4.599, 5.186,\n",
       "        5.773, 6.36], dtype=object))"
      ]
     },
     "execution_count": 35,
     "metadata": {},
     "output_type": "execute_result"
    }
   ],
   "source": [
    "np.histogram(dataset.y)"
   ]
  },
  {
   "cell_type": "code",
   "execution_count": 36,
   "metadata": {
    "scrolled": true
   },
   "outputs": [
    {
     "name": "stderr",
     "output_type": "stream",
     "text": [
      "/home/maria/anaconda3/envs/deepchem_testing/lib/python3.7/site-packages/tensorflow/python/framework/indexed_slices.py:432: UserWarning: Converting sparse IndexedSlices to a dense Tensor of unknown shape. This may consume a large amount of memory.\n",
      "  \"Converting sparse IndexedSlices to a dense Tensor of unknown shape. \"\n"
     ]
    },
    {
     "data": {
      "text/plain": [
       "0.3669636917114258"
      ]
     },
     "execution_count": 36,
     "metadata": {},
     "output_type": "execute_result"
    }
   ],
   "source": [
    "np.random.seed(2020)\n",
    "tf.random.set_seed(2020)\n",
    "m = dc.models.GraphConvModel(1, mode=\"regression\", nb_epoch=40,batch_normalize=False, restore=False)\n",
    "m.fit(dataset)"
   ]
  },
  {
   "cell_type": "code",
   "execution_count": 37,
   "metadata": {},
   "outputs": [],
   "source": [
    "TEST_DATASET_FILE = 'atomic_contributions_tutorial_data/Tetrahymena_pyriformis_Test_set_OCHEM.sdf'\n",
    "loader = dc.data.SDFLoader(tasks=[\"IGC50\"], sanitize= True,\n",
    "        \n",
    "                           featurizer=dc.feat.ConvMolFeaturizer())\n",
    "\n",
    "test_dataset = loader.create_dataset(TEST_DATASET_FILE, shard_size=2000)\n"
   ]
  },
  {
   "cell_type": "code",
   "execution_count": 38,
   "metadata": {},
   "outputs": [],
   "source": [
    "pred = m.predict(test_dataset)"
   ]
  },
  {
   "cell_type": "code",
   "execution_count": 39,
   "metadata": {},
   "outputs": [],
   "source": [
    "mse=metrics.mean_squared_error(y_true=test_dataset.y, y_pred=pred)\n",
    "r2=metrics.r2_score(y_true=test_dataset.y, y_pred=pred)"
   ]
  },
  {
   "cell_type": "code",
   "execution_count": 40,
   "metadata": {},
   "outputs": [
    {
     "data": {
      "text/plain": [
       "0.41432252518295415"
      ]
     },
     "execution_count": 40,
     "metadata": {},
     "output_type": "execute_result"
    }
   ],
   "source": [
    "mse"
   ]
  },
  {
   "cell_type": "code",
   "execution_count": 41,
   "metadata": {},
   "outputs": [
    {
     "data": {
      "text/plain": [
       "0.6248392117899626"
      ]
     },
     "execution_count": 41,
     "metadata": {},
     "output_type": "execute_result"
    }
   ],
   "source": [
    "r2 # r2 is not very high, but acceptable"
   ]
  },
  {
   "cell_type": "code",
   "execution_count": 42,
   "metadata": {
    "scrolled": true
   },
   "outputs": [
    {
     "name": "stderr",
     "output_type": "stream",
     "text": [
      "/home/maria/anaconda3/envs/deepchem_testing/lib/python3.7/site-packages/numpy/core/_asarray.py:83: VisibleDeprecationWarning: Creating an ndarray from ragged nested sequences (which is a list-or-tuple of lists-or-tuples-or ndarrays with different lengths or shapes) is deprecated. If you meant to do this, you must specify 'dtype=object' when creating the ndarray\n",
      "  return array(a, dtype, copy=False, order=order)\n",
      "/mnt/d/deepchem/deepchem/data/data_loader.py:919: VisibleDeprecationWarning: Creating an ndarray from ragged nested sequences (which is a list-or-tuple of lists-or-tuples-or ndarrays with different lengths or shapes) is deprecated. If you meant to do this, you must specify 'dtype=object' when creating the ndarray\n",
      "  return np.array(features), valid_inds\n"
     ]
    }
   ],
   "source": [
    "# load again the training set, \n",
    "# but when featurizing it,  set per_atom_fragmentation=True\n",
    "\n",
    "loader = dc.data.SDFLoader(tasks=[], # dont need any task\n",
    "                           sanitize = True,\n",
    "                           featurizer=dc.feat.ConvMolFeaturizer(per_atom_fragmentation=True)) \n",
    "\n",
    "frag_dataset = loader.create_dataset(DATASET_FILE, shard_size=5000)"
   ]
  },
  {
   "cell_type": "code",
   "execution_count": 43,
   "metadata": {},
   "outputs": [],
   "source": [
    "tr = dc.trans.FlatteningTransformer(frag_dataset) # flatten dataset and add ids to each fragment"
   ]
  },
  {
   "cell_type": "code",
   "execution_count": 44,
   "metadata": {},
   "outputs": [],
   "source": [
    "frag_dataset = tr.transform(frag_dataset)"
   ]
  },
  {
   "cell_type": "code",
   "execution_count": 45,
   "metadata": {},
   "outputs": [],
   "source": [
    "# whole molecules\n",
    "pred = m.predict(dataset)\n",
    "pred = pd.DataFrame(pred, index=dataset.ids, columns=[\"Molecule\"])  # turn to dataframe for convinience"
   ]
  },
  {
   "cell_type": "code",
   "execution_count": 46,
   "metadata": {},
   "outputs": [],
   "source": [
    "# fragments\n",
    "pred_frags = m.predict(frag_dataset)\n",
    "pred_frags = pd.DataFrame(pred_frags, index=frag_dataset.ids, columns=[\"Fragment\"])  # turn to dataframe for convinience"
   ]
  },
  {
   "cell_type": "code",
   "execution_count": 47,
   "metadata": {},
   "outputs": [],
   "source": [
    "# merge 2 dataframes by molecule names\n",
    "df = pd.merge(pred_frags, pred, right_index=True, left_index=True)\n",
    "# find contribs\n",
    "df['Contrib'] = df[\"Molecule\"] - df[\"Fragment\"]"
   ]
  },
  {
   "cell_type": "code",
   "execution_count": null,
   "metadata": {},
   "outputs": [],
   "source": [
    "# Lets take some molecules with moderate activity (not extremely active/inactive)"
   ]
  },
  {
   "cell_type": "code",
   "execution_count": null,
   "metadata": {
    "scrolled": true
   },
   "outputs": [],
   "source": [
    "maps = vis_contribs([mol for mol in mols if float(mol.GetProp(\"IGC50\"))>3 and float(mol.GetProp(\"IGC50\"))<4], df)"
   ]
  },
  {
   "cell_type": "markdown",
   "metadata": {},
   "source": [
    "### We can see, that known toxicophores are in green, namely, nitro-aromatics, halo-aromatics, long alkyl chains, aldehyde; while carboxylic group, alcohol, amino are detoxyfying, as is consistent with literature [3]"
   ]
  },
  {
   "cell_type": "markdown",
   "metadata": {},
   "source": [
    "# Appendix"
   ]
  },
  {
   "cell_type": "markdown",
   "metadata": {},
   "source": [
    "## In this tutorial we operated on sdf files. However,  If we use csv with SMILES as input , the order of atoms in the dataframe DOES NOT correspond to original atom order. If we  want to recover the original atom order for each molecule (to have it in our main dataframe), we need to use RDKit's  Chem.rdmolfiles.CanonicalRankAtoms. Here are some utils to do this.\n",
    "## We can add a column with atom ids (as in input molecules) and use the resulting dataframe for analysis with any other  software, outside \"python-rdkit-deepchem\" environment"
   ]
  },
  {
   "cell_type": "code",
   "execution_count": null,
   "metadata": {},
   "outputs": [],
   "source": [
    "def get_mapping(mols, mol_names): \n",
    "    \"\"\"perform mapping:\n",
    "    atom number original <-> atom number(position) \n",
    "    after ranking (both 1-based)\"\"\"\n",
    "    # mols - RDKit mols\n",
    "    # names  - any seq of strings\n",
    "    # return list of nested lists: [[molecule, [atom , atom, ..], [...]]\n",
    "    assert(len(mols)==len(mol_names))\n",
    "    mapping = []\n",
    "    for m,n in zip(mols, mol_names):\n",
    "        atom_ids = [i+1 for i in list(\n",
    "            Chem.rdmolfiles.CanonicalRankAtoms(m))]\n",
    "        mapping.append([n, atom_ids\n",
    "                   ])\n",
    "    \n",
    "    return mapping\n",
    "    "
   ]
  },
  {
   "cell_type": "code",
   "execution_count": null,
   "metadata": {},
   "outputs": [],
   "source": [
    "def append_atomid_col(df, mapping):\n",
    "    # add column with CORRECT atom number(position)\n",
    "    for i in mapping:\n",
    "        df.loc[i[0],\"AtomID\"] = i[1]\n",
    "    return df   "
   ]
  },
  {
   "cell_type": "markdown",
   "metadata": {},
   "source": [
    "# Bibliography:\n",
    "\n",
    "###### 1. Polishchuk, P., O. Tinkov, T. Khristova, L. Ognichenko, A. Kosinskaya, A. Varnek & V. Kuz’min (2016) Structural and Physico-Chemical Interpretation (SPCI) of QSAR Models and Its Comparison with Matched Molecular Pair Analysis. Journal of Chemical Information and Modeling, 56, 1455-1469.\n",
    "###### 2. Riniker, S. & G. Landrum (2013) Similarity maps - a visualization strategy for molecular fingerprints and machine-learning methods. Journal of Cheminformatics, 5, 43.\n",
    "###### 3. M. Matveieva, M. T. D. Cronin, P. Polishchuk, Mol. Inf. 2019, 38, 1800084. "
   ]
  }
 ],
 "metadata": {
  "kernelspec": {
   "display_name": "Python 3",
   "language": "python",
   "name": "python3"
  },
  "language_info": {
   "codemirror_mode": {
    "name": "ipython",
    "version": 3
   },
   "file_extension": ".py",
   "mimetype": "text/x-python",
   "name": "python",
   "nbconvert_exporter": "python",
   "pygments_lexer": "ipython3",
   "version": "3.7.0"
  }
 },
 "nbformat": 4,
 "nbformat_minor": 4
}
