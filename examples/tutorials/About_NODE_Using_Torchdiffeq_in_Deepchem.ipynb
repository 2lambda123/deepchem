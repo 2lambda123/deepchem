{
  "nbformat": 4,
  "nbformat_minor": 0,
  "metadata": {
    "colab": {
      "name": "About NODE : Using Torchdiffeq in Deepchem",
      "provenance": [],
      "collapsed_sections": []
    },
    "kernelspec": {
      "name": "python3",
      "display_name": "Python 3"
    },
    "language_info": {
      "name": "python"
    }
  },
  "cells": [
    {
      "cell_type": "markdown",
      "source": [
        "# About Neural ODE : Using `Torchdiffeq` with `Deepchem`\n",
        "\n",
        "Author : [Anshuman Mishra](https://github.com/shivance) : [Linkedin](https://www.linkedin.com/in/iamanshuman/)\n",
        "\n",
        "This tutorial and the rest in this sequence are designed to be done in Google colab. If you'd like to open this notebook in colab, you can use the following link.\n",
        "\n",
        "[![Open In Colab](https://colab.research.google.com/assets/colab-badge.svg)](https://colab.research.google.com/drive/1x1_EexmiTk01dsAbdfopWKWbIGENiXC1?usp=sharing)\n",
        "\n",
        "\n",
        "Before getting our hands dirty with </> , let us first understand little bit about what Neural ODEs are ?"
      ],
      "metadata": {
        "id": "d4OeeljJJikY"
      }
    },
    {
      "cell_type": "markdown",
      "source": [
        "#NeuralODEs and torchdiffeq\n",
        "\n",
        "NeuralODE stands for \"Neural Ordinary Differential Equation. You heard right. Let me guess . Your first impression of the word is : \"Has it something to do with differential equations that we studied in the school ?\" \n",
        "\n",
        "Spot on ! Let's see the formal definition as stated by the original [paper](https://arxiv.org/pdf/1806.07366.pdf) : \n",
        "\n",
        "\n",
        "\n",
        "```\n",
        "Neural ODEs are a new family of deep neural network models. Instead of specifying a discrete sequence of \n",
        "hidden layers, we parameterize the derivative of the hidden state using a neural network.\n",
        "\n",
        "The output of the network is computed using a blackbox\n",
        "differential equation solver.\n",
        "\n",
        "These are continuous-depth models that have constant\n",
        "memory cost, adapt their evaluation strategy to each input, and can explicitly trade\n",
        "numerical precision for speed.\n",
        "```\n",
        "\n",
        "\n",
        "In simple words percieve NeuralODEs as yet another type of layer like Linear, Conv2D, MHA...\n",
        "\n",
        "\n",
        "\n",
        "In this tutorial we will be using [torchdiffeq](https://github.com/rtqichen/torchdiffeq). This library provides ordinary differential equation (ODE) solvers implemented in PyTorch . The library provides nice clean API of ODE solvers for usage in deep learning applications. As the solvers are implemented in PyTorch, algorithms in this repository are fully supported to run on the GPU.\n"
      ],
      "metadata": {
        "id": "VVgZYeQ_n3qv"
      }
    },
    {
      "cell_type": "markdown",
      "source": [
        "## What will you learn after completing this tutorial ?\n",
        "\n",
        "\n",
        "\n",
        "1.   How to implement a Neural ODE in a Neural Network ?\n",
        "2.   Using torchdiffeq with deepchem.\n",
        "3. Ofcourse you'll be brushing up your PyTorch coding skills\n",
        "\n"
      ],
      "metadata": {
        "id": "A49L9T0MrQW3"
      }
    },
    {
      "cell_type": "markdown",
      "source": [
        "### Installing Libraries"
      ],
      "metadata": {
        "id": "cJ_f-vywL_6G"
      }
    },
    {
      "cell_type": "code",
      "execution_count": 1,
      "metadata": {
        "id": "BA8x2pcIWZK-",
        "colab": {
          "base_uri": "https://localhost:8080/"
        },
        "outputId": "3009fd08-508c-40d1-ab33-410d8d3ac0a3"
      },
      "outputs": [
        {
          "output_type": "stream",
          "name": "stdout",
          "text": [
            "Collecting torchdiffeq\n",
            "  Downloading torchdiffeq-0.2.2-py3-none-any.whl (31 kB)\n",
            "Requirement already satisfied: torch>=1.3.0 in /usr/local/lib/python3.7/dist-packages (from torchdiffeq) (1.10.0+cu111)\n",
            "Requirement already satisfied: scipy>=1.4.0 in /usr/local/lib/python3.7/dist-packages (from torchdiffeq) (1.4.1)\n",
            "Requirement already satisfied: numpy>=1.13.3 in /usr/local/lib/python3.7/dist-packages (from scipy>=1.4.0->torchdiffeq) (1.21.5)\n",
            "Requirement already satisfied: typing-extensions in /usr/local/lib/python3.7/dist-packages (from torch>=1.3.0->torchdiffeq) (3.10.0.2)\n",
            "Installing collected packages: torchdiffeq\n",
            "Successfully installed torchdiffeq-0.2.2\n",
            "Collecting deepchem\n",
            "  Downloading deepchem-2.6.1-py3-none-any.whl (608 kB)\n",
            "\u001b[K     |████████████████████████████████| 608 kB 5.0 MB/s \n",
            "\u001b[?25hRequirement already satisfied: scipy in /usr/local/lib/python3.7/dist-packages (from deepchem) (1.4.1)\n",
            "Requirement already satisfied: numpy>=1.21 in /usr/local/lib/python3.7/dist-packages (from deepchem) (1.21.5)\n",
            "Requirement already satisfied: pandas in /usr/local/lib/python3.7/dist-packages (from deepchem) (1.3.5)\n",
            "Requirement already satisfied: scikit-learn in /usr/local/lib/python3.7/dist-packages (from deepchem) (1.0.2)\n",
            "Requirement already satisfied: joblib in /usr/local/lib/python3.7/dist-packages (from deepchem) (1.1.0)\n",
            "Collecting rdkit-pypi\n",
            "  Downloading rdkit_pypi-2021.9.4-cp37-cp37m-manylinux_2_17_x86_64.manylinux2014_x86_64.whl (20.6 MB)\n",
            "\u001b[K     |████████████████████████████████| 20.6 MB 1.4 MB/s \n",
            "\u001b[?25hRequirement already satisfied: pytz>=2017.3 in /usr/local/lib/python3.7/dist-packages (from pandas->deepchem) (2018.9)\n",
            "Requirement already satisfied: python-dateutil>=2.7.3 in /usr/local/lib/python3.7/dist-packages (from pandas->deepchem) (2.8.2)\n",
            "Requirement already satisfied: six>=1.5 in /usr/local/lib/python3.7/dist-packages (from python-dateutil>=2.7.3->pandas->deepchem) (1.15.0)\n",
            "Requirement already satisfied: Pillow in /usr/local/lib/python3.7/dist-packages (from rdkit-pypi->deepchem) (7.1.2)\n",
            "Requirement already satisfied: threadpoolctl>=2.0.0 in /usr/local/lib/python3.7/dist-packages (from scikit-learn->deepchem) (3.1.0)\n",
            "Installing collected packages: rdkit-pypi, deepchem\n",
            "Successfully installed deepchem-2.6.1 rdkit-pypi-2021.9.4\n"
          ]
        }
      ],
      "source": [
        "!pip install torchdiffeq\n",
        "!pip install --pre deepchem"
      ]
    },
    {
      "cell_type": "markdown",
      "source": [
        "### Import Libraries"
      ],
      "metadata": {
        "id": "gngfRPYhJhaj"
      }
    },
    {
      "cell_type": "code",
      "source": [
        "import torch\n",
        "import torch.nn as nn\n",
        "\n",
        "from torchdiffeq import odeint\n",
        "import math\n",
        "import numpy as np\n",
        "\n",
        "import deepchem as dc\n",
        "import matplotlib.pyplot as plt"
      ],
      "metadata": {
        "id": "oB_zAXmxXEsV"
      },
      "execution_count": 2,
      "outputs": []
    },
    {
      "cell_type": "markdown",
      "source": [
        "Before diving into the core of this tutorial , let's first aquaint ourselves with usage of torchdiffeq. Let's solve following differential equation .\n",
        "\n",
        "$ \\frac{dz(t)}{dt} = f(t) = t $\n",
        "\n",
        "when $z(0) = 0$\n",
        "\n",
        "The process to do it by hand is :\n",
        "\n",
        "$\\int dz = \\int tdt+C　\\\\\\ z(t) = \\frac{t^2}{2} + C$\n",
        "\n",
        "\n",
        " \n",
        "Let's solve it using ODE Solver `odeint` from torchdiffeq"
      ],
      "metadata": {
        "id": "FxT3gkFwuZyz"
      }
    },
    {
      "cell_type": "code",
      "source": [
        "def f(t,z):\n",
        "  return t**2 \n",
        "\n",
        "z0 = torch.Tensor([0])\n",
        "t = torch.linspace(0,2,100)\n",
        "out = odeint(f, z0, t);"
      ],
      "metadata": {
        "id": "kWKRr4e2uW2_"
      },
      "execution_count": 3,
      "outputs": []
    },
    {
      "cell_type": "markdown",
      "source": [
        "Let's plot our result .It should be a parabola (remember general equation of parabola as $x^2 = 4ay$ )"
      ],
      "metadata": {
        "id": "9P6E7qnDy7BC"
      }
    },
    {
      "cell_type": "code",
      "source": [
        "plt.plot(t, out, 'go--')\n",
        "plt.axes().set_aspect('equal','datalim')\n",
        "plt.grid()\n",
        "#plt.xlim(0,2)\n",
        "plt.show()"
      ],
      "metadata": {
        "colab": {
          "base_uri": "https://localhost:8080/",
          "height": 320
        },
        "id": "myKWP7aJzghx",
        "outputId": "bf44855c-c593-473d-b8fe-302b6f045062"
      },
      "execution_count": 4,
      "outputs": [
        {
          "output_type": "stream",
          "name": "stderr",
          "text": [
            "/usr/local/lib/python3.7/dist-packages/ipykernel_launcher.py:2: MatplotlibDeprecationWarning: Adding an axes using the same arguments as a previous axes currently reuses the earlier instance.  In a future version, a new instance will always be created and returned.  Meanwhile, this warning can be suppressed, and the future behavior ensured, by passing a unique label to each axes instance.\n",
            "  \n"
          ]
        },
        {
          "output_type": "display_data",
          "data": {
            "image/png": "[encoded data removed]",
            "text/plain": [
              "<Figure size 432x288 with 1 Axes>"
            ]
          },
          "metadata": {
            "needs_background": "light"
          }
        }
      ]
    },
    {
      "cell_type": "markdown",
      "source": [
        "# What is Neural Differential Equation ?\n",
        "\n",
        "A neural differential equation is a differential equation using a neural network to\n",
        "parameterise the vector field. The canonical example is a neural ordinary differential\n",
        "equation :\n",
        "\n",
        "$y(0) = y_0$\n",
        "\n",
        "$\\frac{dy}{dt} (t) = f_\\theta(t,y(t)) $\n",
        "\n",
        "Here θ represents some vector of learnt parameters, $ f_\\theta : \\mathbb{R} \\times \\mathbb{R}^{d_1 \\times ... \\times d_k}$ is any standard neural architecture and $ y:[0, T] → \\mathbb{R}^{d_1 \\times ... d_k} $ is the solution. For many applications $f_\\theta$ will just be a simple feedforward network.\n",
        "\n",
        "[Reference](https://arxiv.org/pdf/2202.02435.pdf)\n",
        "\n",
        "The central idea now is to use a differential equation solver as part of a learnt differentiable computation graph (the sort of computation graph ubiquitous to deep\n",
        "learning)\n",
        "\n",
        "![sample.jpg](data:image/jpeg;base64,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)\n",
        " \n",
        " "
      ],
      "metadata": {
        "id": "RgkBAR46yUwM"
      }
    },
    {
      "cell_type": "markdown",
      "source": [
        "Whoa that's amazing ! We just solved our first neural ODE. But that's not it .We can solve even complex higher order differential equations too. Following is a real world example , a set of differential equations that models a spring - mass damper system\n",
        "\n",
        "$\\dot{x}= \\frac{dx}{dt} $\n",
        "\n",
        "$\\ddot{x} = -(k/m) x + p \\dot{x} $\n",
        "\n",
        "$\\dddot{x} = -r \\ddot{x} + gx$\n",
        "\n",
        "with initial state t=0 , x=1\n",
        "\n",
        "\n",
        "\n",
        "$$\n",
        "\\left[ \\begin{array}{c} \\dot{x} \\\\\\ \\ddot{x} \\\\\\ \\dddot{x} \\end{array} \\right] = \\left[\\begin{array}{cc} 0 & 1 & 0\\\\\\ -\\frac{k}{m} & p & 0\\\\\\ 0 & g & -r \\end{array} \\right]\n",
        "\\left[ \\begin{array}{c} x \\\\\\ \\dot{x}\\\\\\ \\ddot{x} \\\\\\ \\end{array} \\right]\n",
        "$$"
      ],
      "metadata": {
        "id": "S7ClNiTArtnd"
      }
    },
    {
      "cell_type": "markdown",
      "source": [
        "The right hand side may be regarded as a particular differentiable computation graph. The parameters may be fitted by setting up a loss between the trajectories of the model and the observed trajectories in the data, backpropagating through the model, and applying stochastic gradient descent.\n"
      ],
      "metadata": {
        "id": "LEUerc0E7Uv0"
      }
    },
    {
      "cell_type": "code",
      "source": [
        "class SystemOfEquations:\n",
        "\n",
        "  def __init__(self, km, p, g, r):\n",
        "    self.mat = torch.Tensor([[0,1,0],[-km, p, 0],[0,g,-r]])\n",
        "\n",
        "  def solve(self, t, x0, dx0, ddx0):\n",
        "    y0 = torch.cat([x0, dx0, ddx0])\n",
        "    out = odeint(self.func, y0, t)\n",
        "    return out\n",
        "  \n",
        "  def func(self, t, y):\n",
        "    out = y@self.mat \n",
        "    return out\n",
        "\n",
        "\n",
        "x0 = torch.Tensor([1])\n",
        "dx0 = torch.Tensor([0])\n",
        "ddx0 = torch.Tensor([1])\n",
        "\n",
        "t = torch.linspace(0, 4*np.pi, 1000)\n",
        "solver = SystemOfEquations(1,6,3,2)\n",
        "out = solver.solve(t, x0, dx0, ddx0)\n",
        "\n",
        "plt.plot(t, out, 'r')\n",
        "plt.axes()\n",
        "plt.grid()\n",
        "plt.show()"
      ],
      "metadata": {
        "colab": {
          "base_uri": "https://localhost:8080/",
          "height": 313
        },
        "id": "PymaV9V_tzzu",
        "outputId": "b33d0210-1752-47a4-eada-e01ccd99aa64"
      },
      "execution_count": 27,
      "outputs": [
        {
          "output_type": "stream",
          "name": "stderr",
          "text": [
            "/usr/local/lib/python3.7/dist-packages/ipykernel_launcher.py:25: MatplotlibDeprecationWarning: Adding an axes using the same arguments as a previous axes currently reuses the earlier instance.  In a future version, a new instance will always be created and returned.  Meanwhile, this warning can be suppressed, and the future behavior ensured, by passing a unique label to each axes instance.\n"
          ]
        },
        {
          "output_type": "display_data",
          "data": {
            "image/png": "[encoded data removed]",
            "text/plain": [
              "<Figure size 432x288 with 1 Axes>"
            ]
          },
          "metadata": {
            "needs_background": "light"
          }
        }
      ]
    },
    {
      "cell_type": "markdown",
      "source": [
        "This is precisely the same procedure as the more general neural ODEs we introduced\n",
        "earlier. At first glance, the NDE approach of ‘putting a neural network in a differential\n",
        "equation’ may seem unusual, but it is actually in line with standard practice. All that\n",
        "has happened is to change the parameterisation of the vector field."
      ],
      "metadata": {
        "id": "S-8b2Nlf7uQ2"
      }
    },
    {
      "cell_type": "markdown",
      "source": [
        "# Model\n",
        "\n",
        "### Let's have a look at How to embed an odesolver in a neural network .\n",
        "\n",
        "Now ponder over the fact that:\n",
        "  **Neural Networks are Universal Function Approximators.They can approximate almost any function that exists out there.**\n",
        "\n",
        "\n",
        "`function` $ f $ that describes the dynamics of the system. But for a given system , in Machine Learning Problems we are most of the time unaware of system dynamics . We are left with the only choice of learning it from dataset or environment (in case of Agents) \n"
      ],
      "metadata": {
        "id": "UFrs-sEVeUle"
      }
    },
    {
      "cell_type": "code",
      "source": [
        "from torchdiffeq import odeint_adjoint as odeadj\n",
        "\n",
        "\n",
        "class f(nn.Module):\n",
        "  def __init__(self, dim):\n",
        "    super(ODEfunction, self).__init__()\n",
        "    self.model = nn.Sequential(\n",
        "        nn.Linear(dim,124),\n",
        "        nn.ReLU(),\n",
        "        nn.Linear(124,124),\n",
        "        nn.ReLU(),\n",
        "        nn.Linear(124,dim),\n",
        "        nn.Tanh()\n",
        "    )\n",
        "\n",
        "  def forward(self, t, x):\n",
        "    return self.model(x)"
      ],
      "metadata": {
        "id": "is0BkdicaiDu"
      },
      "execution_count": 5,
      "outputs": []
    },
    {
      "cell_type": "markdown",
      "source": [
        "The ODE Block is a `nn.Module` that forms the dynamics of $\\frac{dy}{dt} (t) = f_\\theta(t,y(t)) $.\n",
        " \n",
        "ODE Block treats the received input x as the initial value of the differential equation. ʻ --The integration interval of ODE Block is fixed at 0 ~ 1. And it returns the output of the layer at $ t = 1 $."
      ],
      "metadata": {
        "id": "97VYZesy1-en"
      }
    },
    {
      "cell_type": "code",
      "source": [
        "class ODEBlock(nn.Module):\n",
        "  \n",
        "  # This is ODEBlock. Think of it as a wrapper over ODE Solver , so as to easily connect it with our neurons !\n",
        "\n",
        "  def __init__(self, odefunction):\n",
        "    super(ODEBlock, self).__init__()\n",
        "    self.f = f\n",
        "    self.integration_time = torch.Tensor([0,1]).float()\n",
        "\n",
        "  def forward(self, x):\n",
        "    self.integration_time = self.integration_time.type_as(x)\n",
        "    out = odeadj(\n",
        "        self.f,\n",
        "        x,\n",
        "        self.integration_time\n",
        "    )\n",
        "\n",
        "    return out[1]\n",
        "\n",
        "\n",
        "class ODENet(nn.Module):\n",
        "  \n",
        "  #This is our main neural network that uses ODEBlock within a sequential module\n",
        "\n",
        "  def __init__(self, in_dim, mid_dim, out_dim):\n",
        "    super(ODENet, self).__init__()\n",
        "    odefunction = f(dim=mid_dim)\n",
        "    self.fc1 = nn.Linear(in_dim, mid_dim)\n",
        "    self.relu1 = nn.ReLU(inplace=True)\n",
        "    self.norm1 = nn.BatchNorm1d(mid_dim)\n",
        "    self.ode_block = ODEBlock(odefunction)\n",
        "    self.dropout = nn.Dropout(0.4)\n",
        "    self.norm2 = nn.BatchNorm1d(mid_dim)\n",
        "    self.fc2 = nn.Linear(mid_dim, out_dim)\n",
        "\n",
        "  def forward(self, x):\n",
        "    batch_size = x.shape[0]\n",
        "    x = x.view(batch_size, -1)\n",
        "\n",
        "    out = self.fc1(x)\n",
        "    out = self.relu1(out)\n",
        "    out = self.norm1(out)\n",
        "    out = self.ode_block(out)\n",
        "    out = self.norm2(out)\n",
        "    out = self.dropout(out)\n",
        "    out = self.fc2(out)\n",
        "\n",
        "    return out"
      ],
      "metadata": {
        "id": "NcTIcscv2Ai7"
      },
      "execution_count": 6,
      "outputs": []
    },
    {
      "cell_type": "markdown",
      "source": [
        "As mentioned before , Neural ODE Networks acts similar (has advantages though) to other neural networks , so we can solve any problem with them as the existing models do. We are gonna reuse the training process mentioned in [this](https://github.com/deepchem/deepchem/blob/master/examples/tutorials/Creating_Models_with_TensorFlow_and_PyTorch.ipynb) deepchem tutorial.\n",
        "\n",
        "So Rather than demonstrating how to use NeuralODE model with a normal dataset, we shall use the Delaney solubility dataset provided under `deepchem` . Our model will learn to predict the solubilities of molecules based on their extended-connectivity fingerprints (ECFPs) . For performance metrics we use [pearson_r2_score](https://deepchem.readthedocs.io/en/latest/api_reference/metrics.html#deepchem.metrics.pearson_r2_score) . Here loss is computed directly from the model's output"
      ],
      "metadata": {
        "id": "mIkICdmIG-ic"
      }
    },
    {
      "cell_type": "code",
      "source": [
        "tasks, dataset, transformers = dc.molnet.load_delaney(featurizer='ECFP', splitter='random')\n",
        "train_set, valid_set, test_set = dataset\n",
        "metric = dc.metrics.Metric(dc.metrics.pearson_r2_score)"
      ],
      "metadata": {
        "id": "Cl7op_CoHBed"
      },
      "execution_count": 7,
      "outputs": []
    },
    {
      "cell_type": "markdown",
      "source": [
        "## Time to Train\n",
        "\n",
        "We train our model for 20 epochs, with L2 as Loss Function."
      ],
      "metadata": {
        "id": "3JeD7uJVhhLx"
      }
    },
    {
      "cell_type": "code",
      "source": [
        "# Like mentioned before one can use GPUs with PyTorch and torchdiffeq\n",
        "device = torch.device(\"cuda\" if torch.cuda.is_available() else \"cpu\")\n",
        "\n",
        "\n",
        "model = ODENet(in_dim=1024, mid_dim=1000, out_dim=1).to(device)\n",
        "model = dc.models.TorchModel(model, dc.models.losses.L2Loss())\n",
        "\n",
        "model.fit(train_set, nb_epoch=20)\n",
        "\n",
        "print('Training set score : ', model.evaluate(train_set,[metric]))\n",
        "print('Test set score : ', model.evaluate(test_set,[metric]))"
      ],
      "metadata": {
        "colab": {
          "base_uri": "https://localhost:8080/"
        },
        "id": "1fpHI3eQnTWO",
        "outputId": "ab621cdd-711c-4863-b06d-d0934beeb1a8"
      },
      "execution_count": null,
      "outputs": [
        {
          "output_type": "stream",
          "name": "stdout",
          "text": [
            "Training set score :  {'pearson_r2_score': 0.9629426947607878}\n",
            "Test set score :  {'pearson_r2_score': 0.7681266907039555}\n"
          ]
        }
      ]
    },
    {
      "cell_type": "markdown",
      "source": [
        "Neural ODEs are invertible neural nets [Reference](https://proceedings.mlr.press/v119/zhang20h.html#:~:text=Neural%20ODEs%20and%20i%2DResNets,.approximate%20any%20continuous%20invertible%20mapping.)\n",
        "Invertible neural networks have been a significant thread of research in the ICML community for several years. Such transformations can offer a range of unique benefits: \n",
        "\n",
        "\n",
        "\n",
        "*   They preserve information, allowing perfect reconstruction (up to numerical limits) and obviating the need to store hidden activations in memory for backpropagation.  \n",
        "*    They are often designed to track the changes in probability density that applying the transformation induces (as in normalizing flows). \n",
        "* Like autoregressive models, [normalizing flows](https://arxiv.org/pdf/2006.00104.pdf) can be powerful generative models which allow exact likelihood computations; with the right architecture, they can also allow for much cheaper sampling than autoregressive models. \n",
        "\n",
        "While many researchers are aware of these topics and intrigued by several high-profile papers, few are familiar enough with the technical details to easily follow new developments and contribute. Many may also be unaware of the wide range of applications of invertible neural networks, beyond generative modelling and variational inference."
      ],
      "metadata": {
        "id": "oYXu5gq9Ax9r"
      }
    },
    {
      "cell_type": "markdown",
      "source": [
        "# Congratulations! Time to join the Community!\n",
        "\n",
        "Congratulations on completing this tutorial notebook! If you enjoyed working through the tutorial, and want to continue working with DeepChem, we encourage you to finish the rest of the tutorials in this series. You can also help the DeepChem community in the following ways:\n",
        "\n",
        "## Star DeepChem on [GitHub](https://github.com/deepchem/deepchem)\n",
        "This helps build awareness of the DeepChem project and the tools for open source drug discovery that we're trying to build.\n",
        "\n",
        "## Join the DeepChem Gitter\n",
        "The DeepChem [Gitter](https://gitter.im/deepchem/Lobby) hosts a number of scientists, developers, and enthusiasts interested in deep learning for the life sciences. Join the conversation!"
      ],
      "metadata": {
        "id": "7PIEFIAiKvRP"
      }
    }
  ]
}