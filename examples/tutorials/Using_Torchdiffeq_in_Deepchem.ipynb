{
  "nbformat": 4,
  "nbformat_minor": 0,
  "metadata": {
    "colab": {
      "name": "Using Torchdiffeq in Deepchem",
      "provenance": [],
      "collapsed_sections": []
    },
    "kernelspec": {
      "name": "python3",
      "display_name": "Python 3"
    },
    "language_info": {
      "name": "python"
    },
    "accelerator": "GPU"
  },
  "cells": [
    {
      "cell_type": "markdown",
      "source": [
        "# Torchdiffeq with Deepchem\n",
        "\n",
        "Author : [Anshuman Mishra](https://github.com/shivance)\n",
        "\n",
        "## Colab\n",
        "\n",
        "This tutorial and the rest in this sequence are designed to be done in Google colab. If you'd like to open this notebook in colab, you can use the following link.\n",
        "\n",
        "[![Open In Colab](https://colab.research.google.com/assets/colab-badge.svg)](https://colab.research.google.com/drive/1x1_EexmiTk01dsAbdfopWKWbIGENiXC1?usp=sharing)\n",
        "\n",
        "\n",
        "Before getting our hands dirty with </> , let us first understand little bit about what Neural ODEs are ?"
      ],
      "metadata": {
        "id": "d4OeeljJJikY"
      }
    },
    {
      "cell_type": "markdown",
      "source": [
        "#NeuralODEs and torchdiffeq\n",
        "\n",
        "NeuralODE stands for \"Neural Ordinary Differential Equation. You heard right. Let me guess . Your first impression of the word is : \"Has it something to do with differential equations that we studied in 12th standard ?\" \n",
        "\n",
        "Spot on ! Let's see the formal definition as stated by the original [paper](https://arxiv.org/pdf/1806.07366.pdf) : \n",
        "\n",
        "\n",
        "\n",
        "```\n",
        "Neural ODEs are a new family of deep neural network models. Instead of specifying a discrete sequence of \n",
        "hidden layers, we parameterize the derivative of the hidden state using a neural network.\n",
        "\n",
        "The output of the network is computed using a blackbox\n",
        "differential equation solver.\n",
        "\n",
        "These are continuous-depth models that have constant\n",
        "memory cost, adapt their evaluation strategy to each input, and can explicitly trade\n",
        "numerical precision for speed.\n",
        "```\n",
        "\n",
        "\n",
        "In simple words percieve NeuralODEs as yet another type of layer like Linear, Conv2D, MHA...\n",
        "\n",
        "\n",
        "\n",
        "In this tutorial we will be using [torchdiffeq](https://github.com/rtqichen/torchdiffeq). This library provides ordinary differential equation (ODE) solvers implemented in PyTorch . The library provides nice clean API of ODE solvers for usage in deep learning applications. As the solvers are implemented in PyTorch, algorithms in this repository are fully supported to run on the GPU.\n"
      ],
      "metadata": {
        "id": "VVgZYeQ_n3qv"
      }
    },
    {
      "cell_type": "markdown",
      "source": [
        "## What will you learn after completing this tutorial ?\n",
        "\n",
        "\n",
        "\n",
        "1.   How to implement a Neural ODE in a Neural Network ?\n",
        "2.   Using torchdiffeq with deepchem.\n",
        "3. Ofcourse you'll be brushing up your PyTorch coding skills\n",
        "\n"
      ],
      "metadata": {
        "id": "A49L9T0MrQW3"
      }
    },
    {
      "cell_type": "markdown",
      "source": [
        "### Installing Libraries"
      ],
      "metadata": {
        "id": "cJ_f-vywL_6G"
      }
    },
    {
      "cell_type": "code",
      "execution_count": 3,
      "metadata": {
        "id": "BA8x2pcIWZK-",
        "colab": {
          "base_uri": "https://localhost:8080/",
          "height": 728
        },
        "outputId": "dd42165b-8fa0-4825-e4f4-1ed058dbbc93"
      },
      "outputs": [
        {
          "output_type": "stream",
          "name": "stdout",
          "text": [
            "Collecting torchdiffeq\n",
            "  Downloading torchdiffeq-0.2.2-py3-none-any.whl (31 kB)\n",
            "Requirement already satisfied: scipy>=1.4.0 in /usr/local/lib/python3.7/dist-packages (from torchdiffeq) (1.4.1)\n",
            "Requirement already satisfied: torch>=1.3.0 in /usr/local/lib/python3.7/dist-packages (from torchdiffeq) (1.10.0+cu111)\n",
            "Requirement already satisfied: numpy>=1.13.3 in /usr/local/lib/python3.7/dist-packages (from scipy>=1.4.0->torchdiffeq) (1.19.5)\n",
            "Requirement already satisfied: typing-extensions in /usr/local/lib/python3.7/dist-packages (from torch>=1.3.0->torchdiffeq) (3.10.0.2)\n",
            "Installing collected packages: torchdiffeq\n",
            "Successfully installed torchdiffeq-0.2.2\n",
            "Collecting deepchem\n",
            "  Downloading deepchem-2.6.1-py3-none-any.whl (608 kB)\n",
            "\u001b[K     |████████████████████████████████| 608 kB 5.2 MB/s \n",
            "\u001b[?25hCollecting numpy>=1.21\n",
            "  Downloading numpy-1.21.5-cp37-cp37m-manylinux_2_12_x86_64.manylinux2010_x86_64.whl (15.7 MB)\n",
            "\u001b[K     |████████████████████████████████| 15.7 MB 40.0 MB/s \n",
            "\u001b[?25hRequirement already satisfied: scikit-learn in /usr/local/lib/python3.7/dist-packages (from deepchem) (1.0.2)\n",
            "Requirement already satisfied: scipy in /usr/local/lib/python3.7/dist-packages (from deepchem) (1.4.1)\n",
            "Requirement already satisfied: joblib in /usr/local/lib/python3.7/dist-packages (from deepchem) (1.1.0)\n",
            "Requirement already satisfied: pandas in /usr/local/lib/python3.7/dist-packages (from deepchem) (1.3.5)\n",
            "Collecting rdkit-pypi\n",
            "  Downloading rdkit_pypi-2021.9.4-cp37-cp37m-manylinux_2_17_x86_64.manylinux2014_x86_64.whl (20.6 MB)\n",
            "\u001b[K     |████████████████████████████████| 20.6 MB 58.7 MB/s \n",
            "\u001b[?25hRequirement already satisfied: python-dateutil>=2.7.3 in /usr/local/lib/python3.7/dist-packages (from pandas->deepchem) (2.8.2)\n",
            "Requirement already satisfied: pytz>=2017.3 in /usr/local/lib/python3.7/dist-packages (from pandas->deepchem) (2018.9)\n",
            "Requirement already satisfied: six>=1.5 in /usr/local/lib/python3.7/dist-packages (from python-dateutil>=2.7.3->pandas->deepchem) (1.15.0)\n",
            "Requirement already satisfied: Pillow in /usr/local/lib/python3.7/dist-packages (from rdkit-pypi->deepchem) (7.1.2)\n",
            "Requirement already satisfied: threadpoolctl>=2.0.0 in /usr/local/lib/python3.7/dist-packages (from scikit-learn->deepchem) (3.1.0)\n",
            "Installing collected packages: numpy, rdkit-pypi, deepchem\n",
            "  Attempting uninstall: numpy\n",
            "    Found existing installation: numpy 1.19.5\n",
            "    Uninstalling numpy-1.19.5:\n",
            "      Successfully uninstalled numpy-1.19.5\n",
            "\u001b[31mERROR: pip's dependency resolver does not currently take into account all the packages that are installed. This behaviour is the source of the following dependency conflicts.\n",
            "yellowbrick 1.3.post1 requires numpy<1.20,>=1.16.0, but you have numpy 1.21.5 which is incompatible.\n",
            "datascience 0.10.6 requires folium==0.2.1, but you have folium 0.8.3 which is incompatible.\n",
            "albumentations 0.1.12 requires imgaug<0.2.7,>=0.2.5, but you have imgaug 0.2.9 which is incompatible.\u001b[0m\n",
            "Successfully installed deepchem-2.6.1 numpy-1.21.5 rdkit-pypi-2021.9.4\n"
          ]
        },
        {
          "output_type": "display_data",
          "data": {
            "application/vnd.colab-display-data+json": {
              "pip_warning": {
                "packages": [
                  "numpy"
                ]
              }
            }
          },
          "metadata": {}
        }
      ],
      "source": [
        "!pip install torchdiffeq\n",
        "!pip install --pre deepchem"
      ]
    },
    {
      "cell_type": "markdown",
      "source": [
        "### Import Libraries"
      ],
      "metadata": {
        "id": "gngfRPYhJhaj"
      }
    },
    {
      "cell_type": "code",
      "source": [
        "import torch\n",
        "import torch.nn as nn\n",
        "\n",
        "from torchdiffeq import odeint\n",
        "import math\n",
        "\n",
        "import deepchem as dc\n",
        "import matplotlib.pyplot as plt"
      ],
      "metadata": {
        "id": "oB_zAXmxXEsV"
      },
      "execution_count": 6,
      "outputs": []
    },
    {
      "cell_type": "markdown",
      "source": [
        "Before diving into the core of this tutorial , let's first aquaint ourselves with usage of torchdiffeq. Let's solve following differential equation .\n",
        "\n",
        "$ \\frac{dz(t)}{dt} = f(t) = t $\n",
        "\n",
        "when $z(0) = 0$\n",
        "\n",
        "The process to do it by hand is :\n",
        "\n",
        "$\\int dz = \\int tdt+C　\\\\\\ z(t) = \\frac{t^2}{2} + C$\n",
        "\n",
        "\n",
        " \n",
        "Let's solve it using Neural ODE Solver `odeint` from torchdiffeq"
      ],
      "metadata": {
        "id": "FxT3gkFwuZyz"
      }
    },
    {
      "cell_type": "code",
      "source": [
        "def f(t,z):\n",
        "  return t\n",
        "\n",
        "z0 = torch.Tensor([0])\n",
        "t = torch.linspace(0,2,100)\n",
        "out = odeint(f, z0, t);"
      ],
      "metadata": {
        "id": "kWKRr4e2uW2_"
      },
      "execution_count": 9,
      "outputs": []
    },
    {
      "cell_type": "markdown",
      "source": [
        "Let's plot our result .It should be a parabola (remember general equation of parabola as $x^2 = 4ay$ )"
      ],
      "metadata": {
        "id": "9P6E7qnDy7BC"
      }
    },
    {
      "cell_type": "code",
      "source": [
        "plt.plot(t, out, 'go--')\n",
        "plt.axes().set_aspect('equal','datalim')\n",
        "plt.grid()\n",
        "plt.xlim(0,2)\n",
        "plt.show()"
      ],
      "metadata": {
        "colab": {
          "base_uri": "https://localhost:8080/",
          "height": 320
        },
        "id": "myKWP7aJzghx",
        "outputId": "17e9383e-f7c2-4c28-a0f2-10602cd6bd5d"
      },
      "execution_count": 10,
      "outputs": [
        {
          "output_type": "stream",
          "name": "stderr",
          "text": [
            "/usr/local/lib/python3.7/dist-packages/ipykernel_launcher.py:2: MatplotlibDeprecationWarning: Adding an axes using the same arguments as a previous axes currently reuses the earlier instance.  In a future version, a new instance will always be created and returned.  Meanwhile, this warning can be suppressed, and the future behavior ensured, by passing a unique label to each axes instance.\n",
            "  \n"
          ]
        },
        {
          "output_type": "display_data",
          "data": {
            "image/png": "[encoded data removed]",
            "text/plain": [
              "<Figure size 432x288 with 1 Axes>"
            ]
          },
          "metadata": {
            "needs_background": "light"
          }
        }
      ]
    },
    {
      "cell_type": "markdown",
      "source": [
        "Whoa that's amazing ! We just solved our first neural ODE."
      ],
      "metadata": {
        "id": "U7HsGvhdziYj"
      }
    },
    {
      "cell_type": "markdown",
      "source": [
        "## Load dataset\n",
        "\n",
        "Let's load the Delaney solubility dataset. Our model will learn to predict the solubilities of molecules based on their extended-connectivity fingerprints (ECFPs) . For performance metrics we use [pearson_r2_score](https://deepchem.readthedocs.io/en/latest/api_reference/metrics.html#deepchem.metrics.pearson_r2_score) ."
      ],
      "metadata": {
        "id": "mIkICdmIG-ic"
      }
    },
    {
      "cell_type": "code",
      "source": [
        "tasks, dataset, transformers = dc.molnet.load_delaney(featurizer='ECFP', splitter='random')\n",
        "train_set, valid_set, test_set = dataset\n",
        "metric = dc.metrics.Metric(dc.metrics.pearson_r2_score)"
      ],
      "metadata": {
        "id": "Cl7op_CoHBed"
      },
      "execution_count": 11,
      "outputs": []
    },
    {
      "cell_type": "markdown",
      "source": [
        "# Model\n",
        "\n",
        "Let's see how to actually implement ODE Block. The ODE Block is a `nn.Module` that forms the dynamics of $\\frac{dz}{dt} = f(t, z)$. \n",
        "\n",
        "The actual Neural ODE is constructed using ODE Block together with the normal Full-Connect layer and convolution layer."
      ],
      "metadata": {
        "id": "UFrs-sEVeUle"
      }
    },
    {
      "cell_type": "code",
      "source": [
        "from torchdiffeq import odeint_adjoint as odeadj\n",
        "\n",
        "\n",
        "class ODEfunction(nn.Module):\n",
        "  '''\n",
        "  Like typical ODE , we have a function and We intgrate it wrt. some variable. Neural Networks are \n",
        "  Universal Function Approximators. They can approximate almost any function that exists out there.\n",
        "  The most amazing thing with neural odes is : We don't know what the function is. So we learn it \n",
        "  from dataset . And the ode , differentiates and integrates it as per the need of the network.\n",
        "  '''\n",
        "\n",
        "  def __init__(self, dim):\n",
        "    super(ODEfunction, self).__init__()\n",
        "    self.model = nn.Sequential(\n",
        "        nn.Linear(dim,124),\n",
        "        nn.ReLU(),\n",
        "        nn.Linear(124,124),\n",
        "        nn.ReLU(),\n",
        "        nn.Linear(124,dim),\n",
        "        nn.Tanh()\n",
        "    )\n",
        "\n",
        "  def forward(self, t, x):\n",
        "    return self.model(x)"
      ],
      "metadata": {
        "id": "is0BkdicaiDu"
      },
      "execution_count": 12,
      "outputs": []
    },
    {
      "cell_type": "markdown",
      "source": [
        "ODE Block treats the received input x as the initial value of the differential equation. ―― ʻODEfunc` is $ f $ that describes the dynamics of the system. --The integration interval of ODE Block is fixed at 0 ~ 1. And it returns the output of the layer at $ t = 1 $."
      ],
      "metadata": {
        "id": "97VYZesy1-en"
      }
    },
    {
      "cell_type": "code",
      "source": [
        "class ODEBlock(nn.Module):\n",
        "  '''\n",
        "  This is ODEBlock. Think of it as a wrapper over ODE Solver , so as to easily connect it with our neurons !\n",
        "  '''\n",
        "  def __init__(self, odefunction):\n",
        "    super(ODEBlock, self).__init__()\n",
        "    self.odefunction = odefunction\n",
        "    self.integration_time = torch.Tensor([0,1]).float()\n",
        "\n",
        "  def forward(self, x):\n",
        "    self.integration_time = self.integration_time.type_as(x)\n",
        "    out = odeadj(\n",
        "        self.odefunction,\n",
        "        x,\n",
        "        self.integration_time\n",
        "    )\n",
        "\n",
        "    return out[1]\n",
        "\n",
        "\n",
        "class ODENet(nn.Module):\n",
        "  '''\n",
        "  This is our main neural network that uses ODEBlock within a sequential module\n",
        "  '''\n",
        "\n",
        "  def __init__(self, in_dim, mid_dim, out_dim):\n",
        "    super(ODENet, self).__init__()\n",
        "    odefunction = ODEfunction(dim=mid_dim)\n",
        "    self.fc1 = nn.Linear(in_dim, mid_dim)\n",
        "    self.relu1 = nn.ReLU(inplace=True)\n",
        "    self.norm1 = nn.BatchNorm1d(mid_dim)\n",
        "    self.ode_block = ODEBlock(odefunction)\n",
        "    self.dropout = nn.Dropout(0.4)\n",
        "    self.norm2 = nn.BatchNorm1d(mid_dim)\n",
        "    self.fc2 = nn.Linear(mid_dim, out_dim)\n",
        "\n",
        "  def forward(self, x):\n",
        "    batch_size = x.shape[0]\n",
        "    x = x.view(batch_size, -1)\n",
        "\n",
        "    out = self.fc1(x)\n",
        "    out = self.relu1(out)\n",
        "    out = self.norm1(out)\n",
        "    out = self.ode_block(out)\n",
        "    out = self.norm2(out)\n",
        "    out = self.dropout(out)\n",
        "    out = self.fc2(out)\n",
        "\n",
        "    return out"
      ],
      "metadata": {
        "id": "NcTIcscv2Ai7"
      },
      "execution_count": 14,
      "outputs": []
    },
    {
      "cell_type": "markdown",
      "source": [
        "## Time to Train\n",
        "\n",
        "We train our model for 20 epochs, with L2 as Loss Function."
      ],
      "metadata": {
        "id": "3JeD7uJVhhLx"
      }
    },
    {
      "cell_type": "code",
      "source": [
        "# Like mentioned before one can use GPUs with PyTorch and torchdiffeq\n",
        "device = torch.device(\"cuda\" if torch.cuda.is_available() else \"cpu\")\n",
        "\n",
        "\n",
        "model = ODENet(in_dim=1024, mid_dim=1000, out_dim=1).to(device)\n",
        "model = dc.models.TorchModel(model, dc.models.losses.L2Loss())\n",
        "\n",
        "model.fit(train_set, nb_epoch=20)\n",
        "\n",
        "print('Training set score : ', model.evaluate(train_set,[metric]))\n",
        "print('Test set score : ', model.evaluate(test_set,[metric]))"
      ],
      "metadata": {
        "colab": {
          "base_uri": "https://localhost:8080/"
        },
        "id": "1fpHI3eQnTWO",
        "outputId": "ab621cdd-711c-4863-b06d-d0934beeb1a8"
      },
      "execution_count": 13,
      "outputs": [
        {
          "output_type": "stream",
          "name": "stdout",
          "text": [
            "Training set score :  {'pearson_r2_score': 0.9629426947607878}\n",
            "Test set score :  {'pearson_r2_score': 0.7681266907039555}\n"
          ]
        }
      ]
    },
    {
      "cell_type": "markdown",
      "source": [
        "# Congratulations! Time to join the Community!\n",
        "\n",
        "Congratulations on completing this tutorial notebook! If you enjoyed working through the tutorial, and want to continue working with DeepChem, we encourage you to finish the rest of the tutorials in this series. You can also help the DeepChem community in the following ways:\n",
        "\n",
        "## Star DeepChem on [GitHub](https://github.com/deepchem/deepchem)\n",
        "This helps build awareness of the DeepChem project and the tools for open source drug discovery that we're trying to build.\n",
        "\n",
        "## Join the DeepChem Gitter\n",
        "The DeepChem [Gitter](https://gitter.im/deepchem/Lobby) hosts a number of scientists, developers, and enthusiasts interested in deep learning for the life sciences. Join the conversation!"
      ],
      "metadata": {
        "id": "7PIEFIAiKvRP"
      }
    }
  ]
}