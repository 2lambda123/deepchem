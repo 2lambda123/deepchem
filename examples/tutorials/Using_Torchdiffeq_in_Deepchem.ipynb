{
  "nbformat": 4,
  "nbformat_minor": 0,
  "metadata": {
    "colab": {
      "name": "Using Torchdiffeq in Deepchem",
      "provenance": [],
      "collapsed_sections": []
    },
    "kernelspec": {
      "name": "python3",
      "display_name": "Python 3"
    },
    "language_info": {
      "name": "python"
    },
    "accelerator": "GPU"
  },
  "cells": [
    {
      "cell_type": "markdown",
      "source": [
        "# Torchdiffeq with Deepchem\n",
        "\n",
        "Author : [Anshuman Mishra](https://github.com/shivance)\n",
        "\n",
        "In this tutorial, we will explore use neural ordinary differential equation model in our neural network ! \n",
        "\n",
        "We use deepchem's molnet dataset.\n",
        "\n",
        "## Colab\n",
        "\n",
        "This tutorial and the rest in this sequence are designed to be done in Google colab. If you'd like to open this notebook in colab, you can use the following link.\n",
        "\n",
        "[![Open In Colab](https://colab.research.google.com/assets/colab-badge.svg)](https://colab.research.google.com/drive/1x1_EexmiTk01dsAbdfopWKWbIGENiXC1?usp=sharing)\n"
      ],
      "metadata": {
        "id": "d4OeeljJJikY"
      }
    },
    {
      "cell_type": "markdown",
      "source": [
        "### Installing Libraries"
      ],
      "metadata": {
        "id": "cJ_f-vywL_6G"
      }
    },
    {
      "cell_type": "code",
      "execution_count": null,
      "metadata": {
        "id": "BA8x2pcIWZK-"
      },
      "outputs": [],
      "source": [
        "!pip install torchdiffeq\n",
        "!pip install --pre deepchem"
      ]
    },
    {
      "cell_type": "markdown",
      "source": [
        "### Import Libraries"
      ],
      "metadata": {
        "id": "gngfRPYhJhaj"
      }
    },
    {
      "cell_type": "code",
      "source": [
        "import torch\n",
        "import torch.nn as nn\n",
        "\n",
        "from torchdiffeq import odeint\n",
        "import math\n",
        "\n",
        "import deepchem as dc"
      ],
      "metadata": {
        "id": "oB_zAXmxXEsV"
      },
      "execution_count": 1,
      "outputs": []
    },
    {
      "cell_type": "markdown",
      "source": [
        "## Make dataset deepchem"
      ],
      "metadata": {
        "id": "mIkICdmIG-ic"
      }
    },
    {
      "cell_type": "code",
      "source": [
        "tasks, dataset, transformers = dc.molnet.load_delaney(featurizer='ECFP', splitter='random')\n",
        "train_set, valid_set, test_set = dataset\n",
        "metric = dc.metrics.Metric(dc.metrics.pearson_r2_score)"
      ],
      "metadata": {
        "id": "Cl7op_CoHBed"
      },
      "execution_count": 5,
      "outputs": []
    },
    {
      "cell_type": "markdown",
      "source": [
        "# Model"
      ],
      "metadata": {
        "id": "UFrs-sEVeUle"
      }
    },
    {
      "cell_type": "code",
      "source": [
        "from torchdiffeq import odeint_adjoint as odeadj\n",
        "\n",
        "class ODEfunction(nn.Module):\n",
        "\n",
        "  def __init__(self, dim):\n",
        "    super(ODEfunction, self).__init__()\n",
        "    self.model = nn.Sequential(\n",
        "        nn.Linear(dim,124),\n",
        "        nn.ReLU(),\n",
        "        nn.Linear(124,124),\n",
        "        nn.ReLU(),\n",
        "        nn.Linear(124,dim),\n",
        "        nn.Tanh()\n",
        "    )\n",
        "\n",
        "  def forward(self, t, x):\n",
        "    return self.model(x)\n",
        "\n",
        "class ODEBlock(nn.Module):\n",
        "\n",
        "  def __init__(self, odefunction):\n",
        "    super(ODEBlock, self).__init__()\n",
        "    self.odefunction = odefunction\n",
        "    self.integration_time = torch.Tensor([0,1]).float()\n",
        "\n",
        "  def forward(self, x):\n",
        "    self.integration_time = self.integration_time.type_as(x)\n",
        "    out = odeadj(\n",
        "        self.odefunction,\n",
        "        x,\n",
        "        self.integration_time\n",
        "    )\n",
        "\n",
        "    return out[1]\n",
        "\n",
        "\n",
        "class ODENet(nn.Module):\n",
        "\n",
        "  def __init__(self, in_dim, mid_dim, out_dim):\n",
        "    super(ODENet, self).__init__()\n",
        "    odefunction = ODEfunction(dim=mid_dim)\n",
        "    self.fc1 = nn.Linear(in_dim, mid_dim)\n",
        "    self.relu1 = nn.ReLU(inplace=True)\n",
        "    self.norm1 = nn.BatchNorm1d(mid_dim)\n",
        "    self.ode_block = ODEBlock(odefunction)\n",
        "    self.dropout = nn.Dropout(0.4)\n",
        "    self.norm2 = nn.BatchNorm1d(mid_dim)\n",
        "    self.fc2 = nn.Linear(mid_dim, out_dim)\n",
        "\n",
        "  def forward(self, x):\n",
        "    batch_size = x.shape[0]\n",
        "    x = x.view(batch_size, -1)\n",
        "\n",
        "    out = self.fc1(x)\n",
        "    out = self.relu1(out)\n",
        "    out = self.norm1(out)\n",
        "    out = self.ode_block(out)\n",
        "    out = self.norm2(out)\n",
        "    out = self.dropout(out)\n",
        "    out = self.fc2(out)\n",
        "\n",
        "    return out"
      ],
      "metadata": {
        "id": "is0BkdicaiDu"
      },
      "execution_count": 6,
      "outputs": []
    },
    {
      "cell_type": "markdown",
      "source": [
        "## Time to Train"
      ],
      "metadata": {
        "id": "3JeD7uJVhhLx"
      }
    },
    {
      "cell_type": "code",
      "source": [
        "device = torch.device(\"cuda\" if torch.cuda.is_available() else \"cpu\")\n",
        "\n",
        "\n",
        "model = ODENet(in_dim=1024, mid_dim=1000, out_dim=1).to(device)\n",
        "model = dc.models.TorchModel(model, dc.models.losses.L2Loss())\n",
        "\n",
        "model.fit(train_set, nb_epoch=5)\n",
        "\n",
        "print('Training set score : ', model.evaluate(train_set,[metric]))\n",
        "print('Test set score : ', model.evaluate(test_set,[metric]))"
      ],
      "metadata": {
        "colab": {
          "base_uri": "https://localhost:8080/"
        },
        "id": "1fpHI3eQnTWO",
        "outputId": "1b9148dc-0544-4cd9-c4cd-02b779be3936"
      },
      "execution_count": 10,
      "outputs": [
        {
          "output_type": "stream",
          "name": "stdout",
          "text": [
            "Training set score :  {'pearson_r2_score': 0.8971549648849394}\n",
            "Test set score :  {'pearson_r2_score': 0.7401856633636557}\n"
          ]
        }
      ]
    },
    {
      "cell_type": "markdown",
      "source": [
        "# Congratulations! Time to join the Community!\n",
        "\n",
        "Congratulations on completing this tutorial notebook! If you enjoyed working through the tutorial, and want to continue working with DeepChem, we encourage you to finish the rest of the tutorials in this series. You can also help the DeepChem community in the following ways:\n",
        "\n",
        "## Star DeepChem on [GitHub](https://github.com/deepchem/deepchem)\n",
        "This helps build awareness of the DeepChem project and the tools for open source drug discovery that we're trying to build.\n",
        "\n",
        "## Join the DeepChem Gitter\n",
        "The DeepChem [Gitter](https://gitter.im/deepchem/Lobby) hosts a number of scientists, developers, and enthusiasts interested in deep learning for the life sciences. Join the conversation!"
      ],
      "metadata": {
        "id": "7PIEFIAiKvRP"
      }
    }
  ]
}